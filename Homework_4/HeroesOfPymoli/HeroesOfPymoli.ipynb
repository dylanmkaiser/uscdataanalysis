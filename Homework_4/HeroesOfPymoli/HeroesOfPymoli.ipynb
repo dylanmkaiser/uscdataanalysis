{
 "cells": [
  {
   "cell_type": "markdown",
   "metadata": {},
   "source": [
    "### Heroes Of Pymoli Data Analysis\n",
    "* Of the 1163 active players, the vast majority are male (84%). There also exists, a smaller, but notable proportion of female players (14%).\n",
    "\n",
    "* Our peak age demographic falls between 20-24 (44.8%) with secondary groups falling between 15-19 (18.60%) and 25-29 (13.4%).  \n",
    "-----"
   ]
  },
  {
   "cell_type": "markdown",
   "metadata": {},
   "source": [
    "### Note\n",
    "* Instructions have been included for each segment. You do not have to follow them exactly, but they are included to help you think through the steps."
   ]
  },
  {
   "cell_type": "code",
   "execution_count": 3,
   "metadata": {},
   "outputs": [
    {
     "data": {
      "text/html": [
       "<div>\n",
       "<style scoped>\n",
       "    .dataframe tbody tr th:only-of-type {\n",
       "        vertical-align: middle;\n",
       "    }\n",
       "\n",
       "    .dataframe tbody tr th {\n",
       "        vertical-align: top;\n",
       "    }\n",
       "\n",
       "    .dataframe thead th {\n",
       "        text-align: right;\n",
       "    }\n",
       "</style>\n",
       "<table border=\"1\" class=\"dataframe\">\n",
       "  <thead>\n",
       "    <tr style=\"text-align: right;\">\n",
       "      <th></th>\n",
       "      <th>Purchase ID</th>\n",
       "      <th>SN</th>\n",
       "      <th>Age</th>\n",
       "      <th>Gender</th>\n",
       "      <th>Item ID</th>\n",
       "      <th>Item Name</th>\n",
       "      <th>Price</th>\n",
       "    </tr>\n",
       "  </thead>\n",
       "  <tbody>\n",
       "    <tr>\n",
       "      <th>0</th>\n",
       "      <td>0</td>\n",
       "      <td>Lisim78</td>\n",
       "      <td>20</td>\n",
       "      <td>Male</td>\n",
       "      <td>108</td>\n",
       "      <td>Extraction, Quickblade Of Trembling Hands</td>\n",
       "      <td>3.53</td>\n",
       "    </tr>\n",
       "    <tr>\n",
       "      <th>1</th>\n",
       "      <td>1</td>\n",
       "      <td>Lisovynya38</td>\n",
       "      <td>40</td>\n",
       "      <td>Male</td>\n",
       "      <td>143</td>\n",
       "      <td>Frenzied Scimitar</td>\n",
       "      <td>1.56</td>\n",
       "    </tr>\n",
       "    <tr>\n",
       "      <th>2</th>\n",
       "      <td>2</td>\n",
       "      <td>Ithergue48</td>\n",
       "      <td>24</td>\n",
       "      <td>Male</td>\n",
       "      <td>92</td>\n",
       "      <td>Final Critic</td>\n",
       "      <td>4.88</td>\n",
       "    </tr>\n",
       "    <tr>\n",
       "      <th>3</th>\n",
       "      <td>3</td>\n",
       "      <td>Chamassasya86</td>\n",
       "      <td>24</td>\n",
       "      <td>Male</td>\n",
       "      <td>100</td>\n",
       "      <td>Blindscythe</td>\n",
       "      <td>3.27</td>\n",
       "    </tr>\n",
       "    <tr>\n",
       "      <th>4</th>\n",
       "      <td>4</td>\n",
       "      <td>Iskosia90</td>\n",
       "      <td>23</td>\n",
       "      <td>Male</td>\n",
       "      <td>131</td>\n",
       "      <td>Fury</td>\n",
       "      <td>1.44</td>\n",
       "    </tr>\n",
       "  </tbody>\n",
       "</table>\n",
       "</div>"
      ],
      "text/plain": [
       "   Purchase ID             SN  Age Gender  Item ID  \\\n",
       "0            0        Lisim78   20   Male      108   \n",
       "1            1    Lisovynya38   40   Male      143   \n",
       "2            2     Ithergue48   24   Male       92   \n",
       "3            3  Chamassasya86   24   Male      100   \n",
       "4            4      Iskosia90   23   Male      131   \n",
       "\n",
       "                                   Item Name  Price  \n",
       "0  Extraction, Quickblade Of Trembling Hands   3.53  \n",
       "1                          Frenzied Scimitar   1.56  \n",
       "2                               Final Critic   4.88  \n",
       "3                                Blindscythe   3.27  \n",
       "4                                       Fury   1.44  "
      ]
     },
     "execution_count": 3,
     "metadata": {},
     "output_type": "execute_result"
    }
   ],
   "source": [
    "# Dependencies and Setup\n",
    "import pandas as pd\n",
    "import numpy as np\n",
    "\n",
    "# Raw data file\n",
    "file_to_load = \"Resources/purchase_data.csv\"\n",
    "\n",
    "# Read purchasing file and store into pandas data frame\n",
    "purchase_data_df = pd.read_csv(file_to_load)\n",
    "purchase_data_df.head()"
   ]
  },
  {
   "cell_type": "markdown",
   "metadata": {},
   "source": [
    "## Player Count"
   ]
  },
  {
   "cell_type": "markdown",
   "metadata": {},
   "source": [
    "* Display the total number of players\n"
   ]
  },
  {
   "cell_type": "code",
   "execution_count": 4,
   "metadata": {},
   "outputs": [
    {
     "data": {
      "text/html": [
       "<div>\n",
       "<style scoped>\n",
       "    .dataframe tbody tr th:only-of-type {\n",
       "        vertical-align: middle;\n",
       "    }\n",
       "\n",
       "    .dataframe tbody tr th {\n",
       "        vertical-align: top;\n",
       "    }\n",
       "\n",
       "    .dataframe thead th {\n",
       "        text-align: right;\n",
       "    }\n",
       "</style>\n",
       "<table border=\"1\" class=\"dataframe\">\n",
       "  <thead>\n",
       "    <tr style=\"text-align: right;\">\n",
       "      <th></th>\n",
       "      <th>Total Players</th>\n",
       "    </tr>\n",
       "  </thead>\n",
       "  <tbody>\n",
       "    <tr>\n",
       "      <th>0</th>\n",
       "      <td>576</td>\n",
       "    </tr>\n",
       "  </tbody>\n",
       "</table>\n",
       "</div>"
      ],
      "text/plain": [
       "   Total Players\n",
       "0            576"
      ]
     },
     "execution_count": 4,
     "metadata": {},
     "output_type": "execute_result"
    }
   ],
   "source": [
    "total_players = purchase_data_df[\"SN\"].nunique()\n",
    "total_players_df = pd.DataFrame([\n",
    "    {\"Total Players\":total_players}\n",
    "])\n",
    "total_players_df"
   ]
  },
  {
   "cell_type": "markdown",
   "metadata": {},
   "source": [
    "## Purchasing Analysis (Total)"
   ]
  },
  {
   "cell_type": "markdown",
   "metadata": {},
   "source": [
    "* Run basic calculations to obtain number of unique items, average price, etc.\n",
    "\n",
    "\n",
    "* Create a summary data frame to hold the results\n",
    "\n",
    "\n",
    "* Optional: give the displayed data cleaner formatting\n",
    "\n",
    "\n",
    "* Display the summary data frame\n"
   ]
  },
  {
   "cell_type": "code",
   "execution_count": 5,
   "metadata": {
    "scrolled": true
   },
   "outputs": [
    {
     "data": {
      "text/html": [
       "<div>\n",
       "<style scoped>\n",
       "    .dataframe tbody tr th:only-of-type {\n",
       "        vertical-align: middle;\n",
       "    }\n",
       "\n",
       "    .dataframe tbody tr th {\n",
       "        vertical-align: top;\n",
       "    }\n",
       "\n",
       "    .dataframe thead th {\n",
       "        text-align: right;\n",
       "    }\n",
       "</style>\n",
       "<table border=\"1\" class=\"dataframe\">\n",
       "  <thead>\n",
       "    <tr style=\"text-align: right;\">\n",
       "      <th></th>\n",
       "      <th>Number of Unique Items</th>\n",
       "      <th>Average Price</th>\n",
       "      <th>Number of Purchases</th>\n",
       "      <th>Total Revenue</th>\n",
       "    </tr>\n",
       "  </thead>\n",
       "  <tbody>\n",
       "    <tr>\n",
       "      <th>0</th>\n",
       "      <td>183</td>\n",
       "      <td>$3.05</td>\n",
       "      <td>780</td>\n",
       "      <td>$2379.77</td>\n",
       "    </tr>\n",
       "  </tbody>\n",
       "</table>\n",
       "</div>"
      ],
      "text/plain": [
       "  Number of Unique Items Average Price Number of Purchases Total Revenue\n",
       "0                    183         $3.05                 780      $2379.77"
      ]
     },
     "execution_count": 5,
     "metadata": {},
     "output_type": "execute_result"
    }
   ],
   "source": [
    "# Find unique items by Item ID column\n",
    "unique_items = purchase_data_df[\"Item ID\"].nunique()\n",
    "average_price = purchase_data_df[\"Price\"].mean()\n",
    "number_of_purchases = len(purchase_data_df[\"Item ID\"])\n",
    "total_revenue = purchase_data_df[\"Price\"].sum()\n",
    "\n",
    "# Display in DataFrame\n",
    "unique_items_df = pd.DataFrame({\n",
    "    \"Number of Unique Items\":[str(round((unique_items),0))],\n",
    "    \"Average Price\":[\"$\"+str(round((average_price),2))],\n",
    "    \"Number of Purchases\": [str(round((number_of_purchases),0))],\n",
    "    \"Total Revenue\": [\"$\"+str(round((total_revenue),2))]\n",
    "})\n",
    "unique_items_df\n",
    "#(round((average_price),2))"
   ]
  },
  {
   "cell_type": "markdown",
   "metadata": {},
   "source": [
    "## Gender Demographics"
   ]
  },
  {
   "cell_type": "markdown",
   "metadata": {},
   "source": [
    "* Run basic calculations to obtain number of unique items, average price, etc.\n",
    "\n",
    "\n",
    "* Create a summary data frame to hold the results\n",
    "\n",
    "\n",
    "* Optional: give the displayed data cleaner formatting\n",
    "\n",
    "\n",
    "* Display the summary data frame\n"
   ]
  },
  {
   "cell_type": "code",
   "execution_count": 6,
   "metadata": {},
   "outputs": [
    {
     "data": {
      "text/html": [
       "<div>\n",
       "<style scoped>\n",
       "    .dataframe tbody tr th:only-of-type {\n",
       "        vertical-align: middle;\n",
       "    }\n",
       "\n",
       "    .dataframe tbody tr th {\n",
       "        vertical-align: top;\n",
       "    }\n",
       "\n",
       "    .dataframe thead th {\n",
       "        text-align: right;\n",
       "    }\n",
       "</style>\n",
       "<table border=\"1\" class=\"dataframe\">\n",
       "  <thead>\n",
       "    <tr style=\"text-align: right;\">\n",
       "      <th></th>\n",
       "      <th>Total Count</th>\n",
       "      <th>Percentage of Players</th>\n",
       "    </tr>\n",
       "    <tr>\n",
       "      <th>Gender</th>\n",
       "      <th></th>\n",
       "      <th></th>\n",
       "    </tr>\n",
       "  </thead>\n",
       "  <tbody>\n",
       "    <tr>\n",
       "      <th>Male</th>\n",
       "      <td>484</td>\n",
       "      <td>84.03</td>\n",
       "    </tr>\n",
       "    <tr>\n",
       "      <th>Female</th>\n",
       "      <td>81</td>\n",
       "      <td>14.06</td>\n",
       "    </tr>\n",
       "    <tr>\n",
       "      <th>Other / Non-Disclosed</th>\n",
       "      <td>11</td>\n",
       "      <td>1.91</td>\n",
       "    </tr>\n",
       "  </tbody>\n",
       "</table>\n",
       "</div>"
      ],
      "text/plain": [
       "                       Total Count  Percentage of Players\n",
       "Gender                                                   \n",
       "Male                           484                  84.03\n",
       "Female                          81                  14.06\n",
       "Other / Non-Disclosed           11                   1.91"
      ]
     },
     "execution_count": 6,
     "metadata": {},
     "output_type": "execute_result"
    }
   ],
   "source": [
    "# Use groupby to find Gender\n",
    "gender_df = purchase_data_df.groupby(\"Gender\")\n",
    "\n",
    "# Filter by unique players (remove duplicates)\n",
    "count_by_gender = gender_df[\"SN\"].nunique()\n",
    "\n",
    "# Percentage of players\n",
    "sum_of_gender = sum(count_by_gender)\n",
    "percentage = (count_by_gender/sum_of_gender)*100\n",
    "percentage\n",
    "\n",
    "# DataFrame with summary data\n",
    "gender_demographics_df = pd.DataFrame({\n",
    "    \"Total Count\":count_by_gender,\n",
    "    \"Percentage of Players\": (round((percentage),2))})\n",
    "sort_by_count_df = gender_demographics_df.sort_values(\"Total Count\",ascending=False)\n",
    "sort_by_count_df"
   ]
  },
  {
   "cell_type": "markdown",
   "metadata": {},
   "source": [
    "\n",
    "## Purchasing Analysis (Gender)"
   ]
  },
  {
   "cell_type": "markdown",
   "metadata": {},
   "source": [
    "* Run basic calculations to obtain purchase count, avg. purchase price, etc. by gender\n",
    "\n",
    "\n",
    "* For normalized purchasing, divide total purchase value by purchase count, by gender\n",
    "\n",
    "\n",
    "* Create a summary data frame to hold the results\n",
    "\n",
    "\n",
    "* Optional: give the displayed data cleaner formatting\n",
    "\n",
    "\n",
    "* Display the summary data frame"
   ]
  },
  {
   "cell_type": "code",
   "execution_count": 63,
   "metadata": {},
   "outputs": [
    {
     "data": {
      "text/html": [
       "<style  type=\"text/css\" >\n",
       "</style>  \n",
       "<table id=\"T_ee1570d2_2e6d_11e9_b1f2_80e6500387b2\" > \n",
       "<thead>    <tr> \n",
       "        <th class=\"blank level0\" ></th> \n",
       "        <th class=\"col_heading level0 col0\" >Purchase Count</th> \n",
       "        <th class=\"col_heading level0 col1\" >Average Purchase Price</th> \n",
       "        <th class=\"col_heading level0 col2\" >Total Purchase Value</th> \n",
       "        <th class=\"col_heading level0 col3\" >Avg Total Purchase per Person</th> \n",
       "    </tr>    <tr> \n",
       "        <th class=\"index_name level0\" >Gender</th> \n",
       "        <th class=\"blank\" ></th> \n",
       "        <th class=\"blank\" ></th> \n",
       "        <th class=\"blank\" ></th> \n",
       "        <th class=\"blank\" ></th> \n",
       "    </tr></thead> \n",
       "<tbody>    <tr> \n",
       "        <th id=\"T_ee1570d2_2e6d_11e9_b1f2_80e6500387b2level0_row0\" class=\"row_heading level0 row0\" >Female</th> \n",
       "        <td id=\"T_ee1570d2_2e6d_11e9_b1f2_80e6500387b2row0_col0\" class=\"data row0 col0\" >113</td> \n",
       "        <td id=\"T_ee1570d2_2e6d_11e9_b1f2_80e6500387b2row0_col1\" class=\"data row0 col1\" >$3.20</td> \n",
       "        <td id=\"T_ee1570d2_2e6d_11e9_b1f2_80e6500387b2row0_col2\" class=\"data row0 col2\" >$361.94</td> \n",
       "        <td id=\"T_ee1570d2_2e6d_11e9_b1f2_80e6500387b2row0_col3\" class=\"data row0 col3\" >$4.47</td> \n",
       "    </tr>    <tr> \n",
       "        <th id=\"T_ee1570d2_2e6d_11e9_b1f2_80e6500387b2level0_row1\" class=\"row_heading level0 row1\" >Male</th> \n",
       "        <td id=\"T_ee1570d2_2e6d_11e9_b1f2_80e6500387b2row1_col0\" class=\"data row1 col0\" >652</td> \n",
       "        <td id=\"T_ee1570d2_2e6d_11e9_b1f2_80e6500387b2row1_col1\" class=\"data row1 col1\" >$3.02</td> \n",
       "        <td id=\"T_ee1570d2_2e6d_11e9_b1f2_80e6500387b2row1_col2\" class=\"data row1 col2\" >$1,967.64</td> \n",
       "        <td id=\"T_ee1570d2_2e6d_11e9_b1f2_80e6500387b2row1_col3\" class=\"data row1 col3\" >$4.07</td> \n",
       "    </tr>    <tr> \n",
       "        <th id=\"T_ee1570d2_2e6d_11e9_b1f2_80e6500387b2level0_row2\" class=\"row_heading level0 row2\" >Other / Non-Disclosed</th> \n",
       "        <td id=\"T_ee1570d2_2e6d_11e9_b1f2_80e6500387b2row2_col0\" class=\"data row2 col0\" >15</td> \n",
       "        <td id=\"T_ee1570d2_2e6d_11e9_b1f2_80e6500387b2row2_col1\" class=\"data row2 col1\" >$3.35</td> \n",
       "        <td id=\"T_ee1570d2_2e6d_11e9_b1f2_80e6500387b2row2_col2\" class=\"data row2 col2\" >$50.19</td> \n",
       "        <td id=\"T_ee1570d2_2e6d_11e9_b1f2_80e6500387b2row2_col3\" class=\"data row2 col3\" >$4.56</td> \n",
       "    </tr></tbody> \n",
       "</table> "
      ],
      "text/plain": [
       "<pandas.io.formats.style.Styler at 0x11d8bacc0>"
      ]
     },
     "execution_count": 63,
     "metadata": {},
     "output_type": "execute_result"
    }
   ],
   "source": [
    "# Find values from gender_df\n",
    "purchase_count = gender_df.count()[\"Purchase ID\"]\n",
    "avg_purchase_price = gender_df.mean()[\"Price\"]\n",
    "total_purchase_value = gender_df.sum()[\"Price\"]\n",
    "avg_total_per_person = total_purchase_value/count_by_gender\n",
    "\n",
    "# DataFrame with summary data\n",
    "gender_purchasing_analysis_df = pd.DataFrame({\n",
    "    \"Purchase Count\":purchase_count,\n",
    "    \"Average Purchase Price\":avg_purchase_price,\n",
    "    \"Total Purchase Value\": total_purchase_value,\n",
    "    \"Avg Total Purchase per Person\": avg_total_per_person\n",
    "})\n",
    "gender_purchasing_analysis_df.style.format({\"Average Purchase Price\":\"${:,.2f}\",\n",
    "                                  \"Total Purchase Value\":\"${:,.2f}\",\n",
    "                                  \"Avg Total Purchase per Person\":\"${:,.2f}\"})"
   ]
  },
  {
   "cell_type": "markdown",
   "metadata": {},
   "source": [
    "## Age Demographics"
   ]
  },
  {
   "cell_type": "markdown",
   "metadata": {},
   "source": [
    "* Establish bins for ages\n",
    "\n",
    "\n",
    "* Categorize the existing players using the age bins. Hint: use pd.cut()\n",
    "\n",
    "\n",
    "* Calculate the numbers and percentages by age group\n",
    "\n",
    "\n",
    "* Create a summary data frame to hold the results\n",
    "\n",
    "\n",
    "* Optional: round the percentage column to two decimal points\n",
    "\n",
    "\n",
    "* Display Age Demographics Table\n"
   ]
  },
  {
   "cell_type": "code",
   "execution_count": 64,
   "metadata": {},
   "outputs": [
    {
     "data": {
      "text/html": [
       "<div>\n",
       "<style scoped>\n",
       "    .dataframe tbody tr th:only-of-type {\n",
       "        vertical-align: middle;\n",
       "    }\n",
       "\n",
       "    .dataframe tbody tr th {\n",
       "        vertical-align: top;\n",
       "    }\n",
       "\n",
       "    .dataframe thead th {\n",
       "        text-align: right;\n",
       "    }\n",
       "</style>\n",
       "<table border=\"1\" class=\"dataframe\">\n",
       "  <thead>\n",
       "    <tr style=\"text-align: right;\">\n",
       "      <th></th>\n",
       "      <th>Total Count</th>\n",
       "      <th>Percentage of Players</th>\n",
       "    </tr>\n",
       "    <tr>\n",
       "      <th>Age Bins</th>\n",
       "      <th></th>\n",
       "      <th></th>\n",
       "    </tr>\n",
       "  </thead>\n",
       "  <tbody>\n",
       "    <tr>\n",
       "      <th>&lt;10</th>\n",
       "      <td>17</td>\n",
       "      <td>2.95</td>\n",
       "    </tr>\n",
       "    <tr>\n",
       "      <th>10-14</th>\n",
       "      <td>22</td>\n",
       "      <td>3.82</td>\n",
       "    </tr>\n",
       "    <tr>\n",
       "      <th>15-19</th>\n",
       "      <td>107</td>\n",
       "      <td>18.58</td>\n",
       "    </tr>\n",
       "    <tr>\n",
       "      <th>20-24</th>\n",
       "      <td>258</td>\n",
       "      <td>44.79</td>\n",
       "    </tr>\n",
       "    <tr>\n",
       "      <th>25-29</th>\n",
       "      <td>77</td>\n",
       "      <td>13.37</td>\n",
       "    </tr>\n",
       "    <tr>\n",
       "      <th>30-34</th>\n",
       "      <td>52</td>\n",
       "      <td>9.03</td>\n",
       "    </tr>\n",
       "    <tr>\n",
       "      <th>35-39</th>\n",
       "      <td>31</td>\n",
       "      <td>5.38</td>\n",
       "    </tr>\n",
       "    <tr>\n",
       "      <th>40+</th>\n",
       "      <td>12</td>\n",
       "      <td>2.08</td>\n",
       "    </tr>\n",
       "  </tbody>\n",
       "</table>\n",
       "</div>"
      ],
      "text/plain": [
       "          Total Count  Percentage of Players\n",
       "Age Bins                                    \n",
       "<10                17                   2.95\n",
       "10-14              22                   3.82\n",
       "15-19             107                  18.58\n",
       "20-24             258                  44.79\n",
       "25-29              77                  13.37\n",
       "30-34              52                   9.03\n",
       "35-39              31                   5.38\n",
       "40+                12                   2.08"
      ]
     },
     "execution_count": 64,
     "metadata": {},
     "output_type": "execute_result"
    }
   ],
   "source": [
    "# Establish bins for ages\n",
    "age_bins = [0, 9.90, 14.90, 19.90, 24.90, 29.90, 34.90, 39.90, 99999]\n",
    "group_names = [\"<10\", \"10-14\", \"15-19\", \"20-24\", \"25-29\", \"30-34\", \"35-39\", \"40+\"]\n",
    "\n",
    "purchase_data_df[\"Age Bins\"] = pd.cut(purchase_data_df[\"Age\"],age_bins, labels=group_names)\n",
    "\n",
    "# Use groupby to find Gender\n",
    "age_df = purchase_data_df.groupby(\"Age Bins\")\n",
    "\n",
    "# Filter by unique players (remove duplicates)\n",
    "count_by_age = age_df.nunique()[\"SN\"]\n",
    "\n",
    "# Percentage of players\n",
    "sum_of_age = sum(count_by_age)\n",
    "age_percentage = (count_by_age/sum_of_age)*100\n",
    "age_percentage\n",
    "\n",
    "# DataFrame with summary data\n",
    "age_demographics_df = pd.DataFrame({\n",
    "    \"Total Count\":count_by_age,\n",
    "    \"Percentage of Players\": (round((age_percentage),2))})\n",
    "age_demographics_df"
   ]
  },
  {
   "cell_type": "markdown",
   "metadata": {},
   "source": [
    "## Purchasing Analysis (Age)"
   ]
  },
  {
   "cell_type": "markdown",
   "metadata": {},
   "source": [
    "* Bin the purchase_data data frame by age\n",
    "\n",
    "\n",
    "* Run basic calculations to obtain purchase count, avg. purchase price, etc. in the table below\n",
    "\n",
    "\n",
    "* Calculate Normalized Purchasing\n",
    "\n",
    "\n",
    "* Create a summary data frame to hold the results\n",
    "\n",
    "\n",
    "* Optional: give the displayed data cleaner formatting\n",
    "\n",
    "\n",
    "* Display the summary data frame"
   ]
  },
  {
   "cell_type": "code",
   "execution_count": 65,
   "metadata": {},
   "outputs": [
    {
     "data": {
      "text/html": [
       "<style  type=\"text/css\" >\n",
       "</style>  \n",
       "<table id=\"T_eef60732_2e6d_11e9_b1f2_80e6500387b2\" > \n",
       "<thead>    <tr> \n",
       "        <th class=\"blank level0\" ></th> \n",
       "        <th class=\"col_heading level0 col0\" >Purchase Count</th> \n",
       "        <th class=\"col_heading level0 col1\" >Average Purchase Price</th> \n",
       "        <th class=\"col_heading level0 col2\" >Total Purchase Value</th> \n",
       "        <th class=\"col_heading level0 col3\" >Avg Total Purchase per Person</th> \n",
       "    </tr>    <tr> \n",
       "        <th class=\"index_name level0\" >Age Bins</th> \n",
       "        <th class=\"blank\" ></th> \n",
       "        <th class=\"blank\" ></th> \n",
       "        <th class=\"blank\" ></th> \n",
       "        <th class=\"blank\" ></th> \n",
       "    </tr></thead> \n",
       "<tbody>    <tr> \n",
       "        <th id=\"T_eef60732_2e6d_11e9_b1f2_80e6500387b2level0_row0\" class=\"row_heading level0 row0\" ><10</th> \n",
       "        <td id=\"T_eef60732_2e6d_11e9_b1f2_80e6500387b2row0_col0\" class=\"data row0 col0\" >23</td> \n",
       "        <td id=\"T_eef60732_2e6d_11e9_b1f2_80e6500387b2row0_col1\" class=\"data row0 col1\" >$3.35</td> \n",
       "        <td id=\"T_eef60732_2e6d_11e9_b1f2_80e6500387b2row0_col2\" class=\"data row0 col2\" >$77.13</td> \n",
       "        <td id=\"T_eef60732_2e6d_11e9_b1f2_80e6500387b2row0_col3\" class=\"data row0 col3\" >$4.54</td> \n",
       "    </tr>    <tr> \n",
       "        <th id=\"T_eef60732_2e6d_11e9_b1f2_80e6500387b2level0_row1\" class=\"row_heading level0 row1\" >10-14</th> \n",
       "        <td id=\"T_eef60732_2e6d_11e9_b1f2_80e6500387b2row1_col0\" class=\"data row1 col0\" >28</td> \n",
       "        <td id=\"T_eef60732_2e6d_11e9_b1f2_80e6500387b2row1_col1\" class=\"data row1 col1\" >$2.96</td> \n",
       "        <td id=\"T_eef60732_2e6d_11e9_b1f2_80e6500387b2row1_col2\" class=\"data row1 col2\" >$82.78</td> \n",
       "        <td id=\"T_eef60732_2e6d_11e9_b1f2_80e6500387b2row1_col3\" class=\"data row1 col3\" >$3.76</td> \n",
       "    </tr>    <tr> \n",
       "        <th id=\"T_eef60732_2e6d_11e9_b1f2_80e6500387b2level0_row2\" class=\"row_heading level0 row2\" >15-19</th> \n",
       "        <td id=\"T_eef60732_2e6d_11e9_b1f2_80e6500387b2row2_col0\" class=\"data row2 col0\" >136</td> \n",
       "        <td id=\"T_eef60732_2e6d_11e9_b1f2_80e6500387b2row2_col1\" class=\"data row2 col1\" >$3.04</td> \n",
       "        <td id=\"T_eef60732_2e6d_11e9_b1f2_80e6500387b2row2_col2\" class=\"data row2 col2\" >$412.89</td> \n",
       "        <td id=\"T_eef60732_2e6d_11e9_b1f2_80e6500387b2row2_col3\" class=\"data row2 col3\" >$3.86</td> \n",
       "    </tr>    <tr> \n",
       "        <th id=\"T_eef60732_2e6d_11e9_b1f2_80e6500387b2level0_row3\" class=\"row_heading level0 row3\" >20-24</th> \n",
       "        <td id=\"T_eef60732_2e6d_11e9_b1f2_80e6500387b2row3_col0\" class=\"data row3 col0\" >365</td> \n",
       "        <td id=\"T_eef60732_2e6d_11e9_b1f2_80e6500387b2row3_col1\" class=\"data row3 col1\" >$3.05</td> \n",
       "        <td id=\"T_eef60732_2e6d_11e9_b1f2_80e6500387b2row3_col2\" class=\"data row3 col2\" >$1,114.06</td> \n",
       "        <td id=\"T_eef60732_2e6d_11e9_b1f2_80e6500387b2row3_col3\" class=\"data row3 col3\" >$4.32</td> \n",
       "    </tr>    <tr> \n",
       "        <th id=\"T_eef60732_2e6d_11e9_b1f2_80e6500387b2level0_row4\" class=\"row_heading level0 row4\" >25-29</th> \n",
       "        <td id=\"T_eef60732_2e6d_11e9_b1f2_80e6500387b2row4_col0\" class=\"data row4 col0\" >101</td> \n",
       "        <td id=\"T_eef60732_2e6d_11e9_b1f2_80e6500387b2row4_col1\" class=\"data row4 col1\" >$2.90</td> \n",
       "        <td id=\"T_eef60732_2e6d_11e9_b1f2_80e6500387b2row4_col2\" class=\"data row4 col2\" >$293.00</td> \n",
       "        <td id=\"T_eef60732_2e6d_11e9_b1f2_80e6500387b2row4_col3\" class=\"data row4 col3\" >$3.81</td> \n",
       "    </tr>    <tr> \n",
       "        <th id=\"T_eef60732_2e6d_11e9_b1f2_80e6500387b2level0_row5\" class=\"row_heading level0 row5\" >30-34</th> \n",
       "        <td id=\"T_eef60732_2e6d_11e9_b1f2_80e6500387b2row5_col0\" class=\"data row5 col0\" >73</td> \n",
       "        <td id=\"T_eef60732_2e6d_11e9_b1f2_80e6500387b2row5_col1\" class=\"data row5 col1\" >$2.93</td> \n",
       "        <td id=\"T_eef60732_2e6d_11e9_b1f2_80e6500387b2row5_col2\" class=\"data row5 col2\" >$214.00</td> \n",
       "        <td id=\"T_eef60732_2e6d_11e9_b1f2_80e6500387b2row5_col3\" class=\"data row5 col3\" >$4.12</td> \n",
       "    </tr>    <tr> \n",
       "        <th id=\"T_eef60732_2e6d_11e9_b1f2_80e6500387b2level0_row6\" class=\"row_heading level0 row6\" >35-39</th> \n",
       "        <td id=\"T_eef60732_2e6d_11e9_b1f2_80e6500387b2row6_col0\" class=\"data row6 col0\" >41</td> \n",
       "        <td id=\"T_eef60732_2e6d_11e9_b1f2_80e6500387b2row6_col1\" class=\"data row6 col1\" >$3.60</td> \n",
       "        <td id=\"T_eef60732_2e6d_11e9_b1f2_80e6500387b2row6_col2\" class=\"data row6 col2\" >$147.67</td> \n",
       "        <td id=\"T_eef60732_2e6d_11e9_b1f2_80e6500387b2row6_col3\" class=\"data row6 col3\" >$4.76</td> \n",
       "    </tr>    <tr> \n",
       "        <th id=\"T_eef60732_2e6d_11e9_b1f2_80e6500387b2level0_row7\" class=\"row_heading level0 row7\" >40+</th> \n",
       "        <td id=\"T_eef60732_2e6d_11e9_b1f2_80e6500387b2row7_col0\" class=\"data row7 col0\" >13</td> \n",
       "        <td id=\"T_eef60732_2e6d_11e9_b1f2_80e6500387b2row7_col1\" class=\"data row7 col1\" >$2.94</td> \n",
       "        <td id=\"T_eef60732_2e6d_11e9_b1f2_80e6500387b2row7_col2\" class=\"data row7 col2\" >$38.24</td> \n",
       "        <td id=\"T_eef60732_2e6d_11e9_b1f2_80e6500387b2row7_col3\" class=\"data row7 col3\" >$3.19</td> \n",
       "    </tr></tbody> \n",
       "</table> "
      ],
      "text/plain": [
       "<pandas.io.formats.style.Styler at 0x11dd80080>"
      ]
     },
     "execution_count": 65,
     "metadata": {},
     "output_type": "execute_result"
    }
   ],
   "source": [
    "# Find values from purchase_data_df\n",
    "age_purchase_count = age_df.count()[\"Purchase ID\"]\n",
    "age_avg_purchase_price = age_df.mean()[\"Price\"]\n",
    "age_total_purchase_value = age_df.sum()[\"Price\"]\n",
    "age_avg_total_per_person = age_total_purchase_value/count_by_age\n",
    "\n",
    "# DataFrame with summary data\n",
    "age_purchasing_analysis_df = pd.DataFrame({\n",
    "    \"Purchase Count\":age_purchase_count,\n",
    "    \"Average Purchase Price\":age_avg_purchase_price,\n",
    "    \"Total Purchase Value\": age_total_purchase_value,\n",
    "    \"Avg Total Purchase per Person\": age_avg_total_per_person\n",
    "})\n",
    "age_purchasing_analysis_df.style.format({\"Average Purchase Price\":\"${:,.2f}\",\n",
    "                                  \"Total Purchase Value\":\"${:,.2f}\",\n",
    "                                  \"Avg Total Purchase per Person\":\"${:,.2f}\"})\n"
   ]
  },
  {
   "cell_type": "markdown",
   "metadata": {},
   "source": [
    "## Top Spenders"
   ]
  },
  {
   "cell_type": "markdown",
   "metadata": {},
   "source": [
    "* Run basic calculations to obtain the results in the table below\n",
    "\n",
    "\n",
    "* Create a summary data frame to hold the results\n",
    "\n",
    "\n",
    "* Sort the total purchase value column in descending order\n",
    "\n",
    "\n",
    "* Optional: give the displayed data cleaner formatting\n",
    "\n",
    "\n",
    "* Display a preview of the summary data frame\n",
    "\n"
   ]
  },
  {
   "cell_type": "code",
   "execution_count": 90,
   "metadata": {},
   "outputs": [
    {
     "data": {
      "text/html": [
       "<style  type=\"text/css\" >\n",
       "</style>  \n",
       "<table id=\"T_8970dff2_2e6f_11e9_b1f2_80e6500387b2\" > \n",
       "<thead>    <tr> \n",
       "        <th class=\"blank level0\" ></th> \n",
       "        <th class=\"col_heading level0 col0\" >Purchase Count</th> \n",
       "        <th class=\"col_heading level0 col1\" >Average Purchase Price</th> \n",
       "        <th class=\"col_heading level0 col2\" >Total Purchase Value</th> \n",
       "    </tr>    <tr> \n",
       "        <th class=\"index_name level0\" >SN</th> \n",
       "        <th class=\"blank\" ></th> \n",
       "        <th class=\"blank\" ></th> \n",
       "        <th class=\"blank\" ></th> \n",
       "    </tr></thead> \n",
       "<tbody>    <tr> \n",
       "        <th id=\"T_8970dff2_2e6f_11e9_b1f2_80e6500387b2level0_row0\" class=\"row_heading level0 row0\" >Lisosia93</th> \n",
       "        <td id=\"T_8970dff2_2e6f_11e9_b1f2_80e6500387b2row0_col0\" class=\"data row0 col0\" >5</td> \n",
       "        <td id=\"T_8970dff2_2e6f_11e9_b1f2_80e6500387b2row0_col1\" class=\"data row0 col1\" >$3.79</td> \n",
       "        <td id=\"T_8970dff2_2e6f_11e9_b1f2_80e6500387b2row0_col2\" class=\"data row0 col2\" >$18.96</td> \n",
       "    </tr>    <tr> \n",
       "        <th id=\"T_8970dff2_2e6f_11e9_b1f2_80e6500387b2level0_row1\" class=\"row_heading level0 row1\" >Idastidru52</th> \n",
       "        <td id=\"T_8970dff2_2e6f_11e9_b1f2_80e6500387b2row1_col0\" class=\"data row1 col0\" >4</td> \n",
       "        <td id=\"T_8970dff2_2e6f_11e9_b1f2_80e6500387b2row1_col1\" class=\"data row1 col1\" >$3.86</td> \n",
       "        <td id=\"T_8970dff2_2e6f_11e9_b1f2_80e6500387b2row1_col2\" class=\"data row1 col2\" >$15.45</td> \n",
       "    </tr>    <tr> \n",
       "        <th id=\"T_8970dff2_2e6f_11e9_b1f2_80e6500387b2level0_row2\" class=\"row_heading level0 row2\" >Chamjask73</th> \n",
       "        <td id=\"T_8970dff2_2e6f_11e9_b1f2_80e6500387b2row2_col0\" class=\"data row2 col0\" >3</td> \n",
       "        <td id=\"T_8970dff2_2e6f_11e9_b1f2_80e6500387b2row2_col1\" class=\"data row2 col1\" >$4.61</td> \n",
       "        <td id=\"T_8970dff2_2e6f_11e9_b1f2_80e6500387b2row2_col2\" class=\"data row2 col2\" >$13.83</td> \n",
       "    </tr>    <tr> \n",
       "        <th id=\"T_8970dff2_2e6f_11e9_b1f2_80e6500387b2level0_row3\" class=\"row_heading level0 row3\" >Iral74</th> \n",
       "        <td id=\"T_8970dff2_2e6f_11e9_b1f2_80e6500387b2row3_col0\" class=\"data row3 col0\" >4</td> \n",
       "        <td id=\"T_8970dff2_2e6f_11e9_b1f2_80e6500387b2row3_col1\" class=\"data row3 col1\" >$3.40</td> \n",
       "        <td id=\"T_8970dff2_2e6f_11e9_b1f2_80e6500387b2row3_col2\" class=\"data row3 col2\" >$13.62</td> \n",
       "    </tr>    <tr> \n",
       "        <th id=\"T_8970dff2_2e6f_11e9_b1f2_80e6500387b2level0_row4\" class=\"row_heading level0 row4\" >Iskadarya95</th> \n",
       "        <td id=\"T_8970dff2_2e6f_11e9_b1f2_80e6500387b2row4_col0\" class=\"data row4 col0\" >3</td> \n",
       "        <td id=\"T_8970dff2_2e6f_11e9_b1f2_80e6500387b2row4_col1\" class=\"data row4 col1\" >$4.37</td> \n",
       "        <td id=\"T_8970dff2_2e6f_11e9_b1f2_80e6500387b2row4_col2\" class=\"data row4 col2\" >$13.10</td> \n",
       "    </tr></tbody> \n",
       "</table> "
      ],
      "text/plain": [
       "<pandas.io.formats.style.Styler at 0x11dd90198>"
      ]
     },
     "execution_count": 90,
     "metadata": {},
     "output_type": "execute_result"
    }
   ],
   "source": [
    "# Filter by unique players (remove duplicates)\n",
    "unique_users_df = purchase_data_df.groupby(\"SN\")\n",
    "\n",
    "# Find the purchase count, avg purchase price, total purchase value\n",
    "top_purchase_count = unique_users_df.count()[\"Purchase ID\"]\n",
    "top_avg_price = unique_users_df.mean()[\"Price\"]\n",
    "top_total_price = unique_users_df.sum()[\"Price\"]\n",
    "\n",
    "# DataFrame with summary data\n",
    "top_spenders_purchasing_analysis_df = pd.DataFrame({\n",
    "    \"Purchase Count\":top_purchase_count,\n",
    "    \"Average Purchase Price\":top_avg_price,\n",
    "    \"Total Purchase Value\": top_total_price,\n",
    "})\n",
    "\n",
    "sort_top_5_df = top_spenders_purchasing_analysis_df.sort_values(\"Total Purchase Value\",ascending=False)\n",
    "\n",
    "sort_top_5_df.head().style.format({\"Average Purchase Price\":\"${:,.2f}\",\n",
    "                        \"Total Purchase Value\":\"${:,.2f}\"})\n"
   ]
  },
  {
   "cell_type": "markdown",
   "metadata": {},
   "source": [
    "## Most Popular Items"
   ]
  },
  {
   "cell_type": "markdown",
   "metadata": {},
   "source": [
    "* Retrieve the Item ID, Item Name, and Item Price columns\n",
    "\n",
    "\n",
    "* Group by Item ID and Item Name. Perform calculations to obtain purchase count, item price, and total purchase value\n",
    "\n",
    "\n",
    "* Create a summary data frame to hold the results\n",
    "\n",
    "\n",
    "* Sort the purchase count column in descending order\n",
    "\n",
    "\n",
    "* Optional: give the displayed data cleaner formatting\n",
    "\n",
    "\n",
    "* Display a preview of the summary data frame\n",
    "\n"
   ]
  },
  {
   "cell_type": "code",
   "execution_count": 107,
   "metadata": {},
   "outputs": [
    {
     "data": {
      "text/html": [
       "<style  type=\"text/css\" >\n",
       "</style>  \n",
       "<table id=\"T_6fc7cb9e_2e72_11e9_b1f2_80e6500387b2\" > \n",
       "<thead>    <tr> \n",
       "        <th class=\"blank\" ></th> \n",
       "        <th class=\"blank level0\" ></th> \n",
       "        <th class=\"col_heading level0 col0\" >Purchase Count</th> \n",
       "        <th class=\"col_heading level0 col1\" >Item Price</th> \n",
       "        <th class=\"col_heading level0 col2\" >Total Purchase Value</th> \n",
       "    </tr>    <tr> \n",
       "        <th class=\"index_name level0\" >Item ID</th> \n",
       "        <th class=\"index_name level1\" >Item Name</th> \n",
       "        <th class=\"blank\" ></th> \n",
       "        <th class=\"blank\" ></th> \n",
       "        <th class=\"blank\" ></th> \n",
       "    </tr></thead> \n",
       "<tbody>    <tr> \n",
       "        <th id=\"T_6fc7cb9e_2e72_11e9_b1f2_80e6500387b2level0_row0\" class=\"row_heading level0 row0\" >178</th> \n",
       "        <th id=\"T_6fc7cb9e_2e72_11e9_b1f2_80e6500387b2level1_row0\" class=\"row_heading level1 row0\" >Oathbreaker, Last Hope of the Breaking Storm</th> \n",
       "        <td id=\"T_6fc7cb9e_2e72_11e9_b1f2_80e6500387b2row0_col0\" class=\"data row0 col0\" >12</td> \n",
       "        <td id=\"T_6fc7cb9e_2e72_11e9_b1f2_80e6500387b2row0_col1\" class=\"data row0 col1\" >$4.23</td> \n",
       "        <td id=\"T_6fc7cb9e_2e72_11e9_b1f2_80e6500387b2row0_col2\" class=\"data row0 col2\" >$50.76</td> \n",
       "    </tr>    <tr> \n",
       "        <th id=\"T_6fc7cb9e_2e72_11e9_b1f2_80e6500387b2level0_row1\" class=\"row_heading level0 row1\" >145</th> \n",
       "        <th id=\"T_6fc7cb9e_2e72_11e9_b1f2_80e6500387b2level1_row1\" class=\"row_heading level1 row1\" >Fiery Glass Crusader</th> \n",
       "        <td id=\"T_6fc7cb9e_2e72_11e9_b1f2_80e6500387b2row1_col0\" class=\"data row1 col0\" >9</td> \n",
       "        <td id=\"T_6fc7cb9e_2e72_11e9_b1f2_80e6500387b2row1_col1\" class=\"data row1 col1\" >$4.58</td> \n",
       "        <td id=\"T_6fc7cb9e_2e72_11e9_b1f2_80e6500387b2row1_col2\" class=\"data row1 col2\" >$41.22</td> \n",
       "    </tr>    <tr> \n",
       "        <th id=\"T_6fc7cb9e_2e72_11e9_b1f2_80e6500387b2level0_row2\" class=\"row_heading level0 row2\" >108</th> \n",
       "        <th id=\"T_6fc7cb9e_2e72_11e9_b1f2_80e6500387b2level1_row2\" class=\"row_heading level1 row2\" >Extraction, Quickblade Of Trembling Hands</th> \n",
       "        <td id=\"T_6fc7cb9e_2e72_11e9_b1f2_80e6500387b2row2_col0\" class=\"data row2 col0\" >9</td> \n",
       "        <td id=\"T_6fc7cb9e_2e72_11e9_b1f2_80e6500387b2row2_col1\" class=\"data row2 col1\" >$3.53</td> \n",
       "        <td id=\"T_6fc7cb9e_2e72_11e9_b1f2_80e6500387b2row2_col2\" class=\"data row2 col2\" >$31.77</td> \n",
       "    </tr>    <tr> \n",
       "        <th id=\"T_6fc7cb9e_2e72_11e9_b1f2_80e6500387b2level0_row3\" class=\"row_heading level0 row3\" >82</th> \n",
       "        <th id=\"T_6fc7cb9e_2e72_11e9_b1f2_80e6500387b2level1_row3\" class=\"row_heading level1 row3\" >Nirvana</th> \n",
       "        <td id=\"T_6fc7cb9e_2e72_11e9_b1f2_80e6500387b2row3_col0\" class=\"data row3 col0\" >9</td> \n",
       "        <td id=\"T_6fc7cb9e_2e72_11e9_b1f2_80e6500387b2row3_col1\" class=\"data row3 col1\" >$4.90</td> \n",
       "        <td id=\"T_6fc7cb9e_2e72_11e9_b1f2_80e6500387b2row3_col2\" class=\"data row3 col2\" >$44.10</td> \n",
       "    </tr>    <tr> \n",
       "        <th id=\"T_6fc7cb9e_2e72_11e9_b1f2_80e6500387b2level0_row4\" class=\"row_heading level0 row4\" >19</th> \n",
       "        <th id=\"T_6fc7cb9e_2e72_11e9_b1f2_80e6500387b2level1_row4\" class=\"row_heading level1 row4\" >Pursuit, Cudgel of Necromancy</th> \n",
       "        <td id=\"T_6fc7cb9e_2e72_11e9_b1f2_80e6500387b2row4_col0\" class=\"data row4 col0\" >8</td> \n",
       "        <td id=\"T_6fc7cb9e_2e72_11e9_b1f2_80e6500387b2row4_col1\" class=\"data row4 col1\" >$1.02</td> \n",
       "        <td id=\"T_6fc7cb9e_2e72_11e9_b1f2_80e6500387b2row4_col2\" class=\"data row4 col2\" >$8.16</td> \n",
       "    </tr></tbody> \n",
       "</table> "
      ],
      "text/plain": [
       "<pandas.io.formats.style.Styler at 0x11dfb3978>"
      ]
     },
     "execution_count": 107,
     "metadata": {},
     "output_type": "execute_result"
    }
   ],
   "source": [
    "# Retrieve the Item ID, Item Name, and Item Price columns\n",
    "popular_items_df = purchase_data_df[[\"Item ID\",\"Item Name\",\"Price\"]]\n",
    "\n",
    "# Group by Item ID and Item Name\n",
    "popular_items_unique_df = popular_items_df.groupby([\"Item ID\",\"Item Name\"])\n",
    "\n",
    "# Perform calculations to obtain purchase count, item price, and total purchase value\n",
    "items_purchase_count = popular_items_unique_df.count()[\"Price\"]\n",
    "item_total_purchase_value = popular_items_unique_df.sum()[\"Price\"]\n",
    "item_price = item_total_purchase_value/items_purchase_count\n",
    "\n",
    "# DataFrame with summary data\n",
    "pop_items_purchasing_analysis_df = pd.DataFrame({\n",
    "    \"Purchase Count\":items_purchase_count,\n",
    "    \"Item Price\": item_price,\n",
    "    \"Total Purchase Value\": item_total_purchase_value,\n",
    "})\n",
    "\n",
    "item_sort_top_5_df = pop_items_purchasing_analysis_df.sort_values(\"Purchase Count\",ascending=False)\n",
    "\n",
    "item_sort_top_5_df.head().style.format({\"Item Price\":\"${:,.2f}\",\n",
    "                        \"Total Purchase Value\":\"${:,.2f}\"})"
   ]
  },
  {
   "cell_type": "markdown",
   "metadata": {},
   "source": [
    "## Most Profitable Items"
   ]
  },
  {
   "cell_type": "markdown",
   "metadata": {},
   "source": [
    "* Sort the above table by total purchase value in descending order\n",
    "\n",
    "\n",
    "* Optional: give the displayed data cleaner formatting\n",
    "\n",
    "\n",
    "* Display a preview of the data frame\n",
    "\n"
   ]
  },
  {
   "cell_type": "code",
   "execution_count": 109,
   "metadata": {
    "scrolled": true
   },
   "outputs": [
    {
     "data": {
      "text/html": [
       "<style  type=\"text/css\" >\n",
       "</style>  \n",
       "<table id=\"T_d43f6bd6_2e72_11e9_b1f2_80e6500387b2\" > \n",
       "<thead>    <tr> \n",
       "        <th class=\"blank\" ></th> \n",
       "        <th class=\"blank level0\" ></th> \n",
       "        <th class=\"col_heading level0 col0\" >Purchase Count</th> \n",
       "        <th class=\"col_heading level0 col1\" >Item Price</th> \n",
       "        <th class=\"col_heading level0 col2\" >Total Purchase Value</th> \n",
       "    </tr>    <tr> \n",
       "        <th class=\"index_name level0\" >Item ID</th> \n",
       "        <th class=\"index_name level1\" >Item Name</th> \n",
       "        <th class=\"blank\" ></th> \n",
       "        <th class=\"blank\" ></th> \n",
       "        <th class=\"blank\" ></th> \n",
       "    </tr></thead> \n",
       "<tbody>    <tr> \n",
       "        <th id=\"T_d43f6bd6_2e72_11e9_b1f2_80e6500387b2level0_row0\" class=\"row_heading level0 row0\" >178</th> \n",
       "        <th id=\"T_d43f6bd6_2e72_11e9_b1f2_80e6500387b2level1_row0\" class=\"row_heading level1 row0\" >Oathbreaker, Last Hope of the Breaking Storm</th> \n",
       "        <td id=\"T_d43f6bd6_2e72_11e9_b1f2_80e6500387b2row0_col0\" class=\"data row0 col0\" >12</td> \n",
       "        <td id=\"T_d43f6bd6_2e72_11e9_b1f2_80e6500387b2row0_col1\" class=\"data row0 col1\" >$4.23</td> \n",
       "        <td id=\"T_d43f6bd6_2e72_11e9_b1f2_80e6500387b2row0_col2\" class=\"data row0 col2\" >$50.76</td> \n",
       "    </tr>    <tr> \n",
       "        <th id=\"T_d43f6bd6_2e72_11e9_b1f2_80e6500387b2level0_row1\" class=\"row_heading level0 row1\" >82</th> \n",
       "        <th id=\"T_d43f6bd6_2e72_11e9_b1f2_80e6500387b2level1_row1\" class=\"row_heading level1 row1\" >Nirvana</th> \n",
       "        <td id=\"T_d43f6bd6_2e72_11e9_b1f2_80e6500387b2row1_col0\" class=\"data row1 col0\" >9</td> \n",
       "        <td id=\"T_d43f6bd6_2e72_11e9_b1f2_80e6500387b2row1_col1\" class=\"data row1 col1\" >$4.90</td> \n",
       "        <td id=\"T_d43f6bd6_2e72_11e9_b1f2_80e6500387b2row1_col2\" class=\"data row1 col2\" >$44.10</td> \n",
       "    </tr>    <tr> \n",
       "        <th id=\"T_d43f6bd6_2e72_11e9_b1f2_80e6500387b2level0_row2\" class=\"row_heading level0 row2\" >145</th> \n",
       "        <th id=\"T_d43f6bd6_2e72_11e9_b1f2_80e6500387b2level1_row2\" class=\"row_heading level1 row2\" >Fiery Glass Crusader</th> \n",
       "        <td id=\"T_d43f6bd6_2e72_11e9_b1f2_80e6500387b2row2_col0\" class=\"data row2 col0\" >9</td> \n",
       "        <td id=\"T_d43f6bd6_2e72_11e9_b1f2_80e6500387b2row2_col1\" class=\"data row2 col1\" >$4.58</td> \n",
       "        <td id=\"T_d43f6bd6_2e72_11e9_b1f2_80e6500387b2row2_col2\" class=\"data row2 col2\" >$41.22</td> \n",
       "    </tr>    <tr> \n",
       "        <th id=\"T_d43f6bd6_2e72_11e9_b1f2_80e6500387b2level0_row3\" class=\"row_heading level0 row3\" >92</th> \n",
       "        <th id=\"T_d43f6bd6_2e72_11e9_b1f2_80e6500387b2level1_row3\" class=\"row_heading level1 row3\" >Final Critic</th> \n",
       "        <td id=\"T_d43f6bd6_2e72_11e9_b1f2_80e6500387b2row3_col0\" class=\"data row3 col0\" >8</td> \n",
       "        <td id=\"T_d43f6bd6_2e72_11e9_b1f2_80e6500387b2row3_col1\" class=\"data row3 col1\" >$4.88</td> \n",
       "        <td id=\"T_d43f6bd6_2e72_11e9_b1f2_80e6500387b2row3_col2\" class=\"data row3 col2\" >$39.04</td> \n",
       "    </tr>    <tr> \n",
       "        <th id=\"T_d43f6bd6_2e72_11e9_b1f2_80e6500387b2level0_row4\" class=\"row_heading level0 row4\" >103</th> \n",
       "        <th id=\"T_d43f6bd6_2e72_11e9_b1f2_80e6500387b2level1_row4\" class=\"row_heading level1 row4\" >Singed Scalpel</th> \n",
       "        <td id=\"T_d43f6bd6_2e72_11e9_b1f2_80e6500387b2row4_col0\" class=\"data row4 col0\" >8</td> \n",
       "        <td id=\"T_d43f6bd6_2e72_11e9_b1f2_80e6500387b2row4_col1\" class=\"data row4 col1\" >$4.35</td> \n",
       "        <td id=\"T_d43f6bd6_2e72_11e9_b1f2_80e6500387b2row4_col2\" class=\"data row4 col2\" >$34.80</td> \n",
       "    </tr></tbody> \n",
       "</table> "
      ],
      "text/plain": [
       "<pandas.io.formats.style.Styler at 0x11e082940>"
      ]
     },
     "execution_count": 109,
     "metadata": {},
     "output_type": "execute_result"
    }
   ],
   "source": [
    "# Sort the above table by total purchase value in descending order\n",
    "\n",
    "item2_sort_top_5_df = pop_items_purchasing_analysis_df.sort_values(\"Total Purchase Value\",ascending=False)\n",
    "\n",
    "item2_sort_top_5_df.head().style.format({\"Item Price\":\"${:,.2f}\",\n",
    "                        \"Total Purchase Value\":\"${:,.2f}\"})"
   ]
  },
  {
   "cell_type": "code",
   "execution_count": null,
   "metadata": {},
   "outputs": [],
   "source": []
  }
 ],
 "metadata": {
  "anaconda-cloud": {},
  "kernel_info": {
   "name": "python3"
  },
  "kernelspec": {
   "display_name": "Python 3",
   "language": "python",
   "name": "python3"
  },
  "language_info": {
   "codemirror_mode": {
    "name": "ipython",
    "version": 3
   },
   "file_extension": ".py",
   "mimetype": "text/x-python",
   "name": "python",
   "nbconvert_exporter": "python",
   "pygments_lexer": "ipython3",
   "version": "3.7.1"
  },
  "nteract": {
   "version": "0.8.4"
  }
 },
 "nbformat": 4,
 "nbformat_minor": 1
}
